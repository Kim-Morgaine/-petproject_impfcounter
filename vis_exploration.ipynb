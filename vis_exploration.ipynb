{
 "cells": [
  {
   "cell_type": "code",
   "execution_count": 3,
   "metadata": {},
   "outputs": [],
   "source": [
    "import pandas as pd\n",
    "import streamlit as st\n",
    "import numpy as np\n",
    "import matplotlib.pyplot as plt\n",
    "import matplotlib\n",
    "import seaborn as sns\n",
    "from dataclasses import dataclass\n",
    "from typing import *\n",
    "from dataclasses import dataclass"
   ]
  },
  {
   "cell_type": "code",
   "execution_count": 4,
   "metadata": {},
   "outputs": [
    {
     "data": {
      "text/html": [
       "<div>\n",
       "<style scoped>\n",
       "    .dataframe tbody tr th:only-of-type {\n",
       "        vertical-align: middle;\n",
       "    }\n",
       "\n",
       "    .dataframe tbody tr th {\n",
       "        vertical-align: top;\n",
       "    }\n",
       "\n",
       "    .dataframe thead th {\n",
       "        text-align: right;\n",
       "    }\n",
       "</style>\n",
       "<table border=\"1\" class=\"dataframe\">\n",
       "  <thead>\n",
       "    <tr style=\"text-align: right;\">\n",
       "      <th></th>\n",
       "      <th>Zielgruppe</th>\n",
       "      <th>Priorität</th>\n",
       "      <th>Beschreibung</th>\n",
       "      <th>Grösse der Zielgruppe schweizweit laut BAG-Schätzung</th>\n",
       "      <th>Anteil an Summe P1-P4</th>\n",
       "      <th>Zürich</th>\n",
       "      <th>Bern</th>\n",
       "      <th>Waadt</th>\n",
       "      <th>Aargau</th>\n",
       "      <th>St. Gallen</th>\n",
       "      <th>...</th>\n",
       "      <th>Schwyz</th>\n",
       "      <th>Zug</th>\n",
       "      <th>Schaffhausen</th>\n",
       "      <th>Jura</th>\n",
       "      <th>Appenzell A. Rh.</th>\n",
       "      <th>Nidwalden</th>\n",
       "      <th>Glarus</th>\n",
       "      <th>Obwalden</th>\n",
       "      <th>Uri</th>\n",
       "      <th>Appenzell I. Rh.</th>\n",
       "    </tr>\n",
       "  </thead>\n",
       "  <tbody>\n",
       "    <tr>\n",
       "      <th>0</th>\n",
       "      <td>1a i</td>\n",
       "      <td>P1</td>\n",
       "      <td>Bewohner/innen von Alters- und Pflegeheimen, A...</td>\n",
       "      <td>141250.0</td>\n",
       "      <td>0.0342191</td>\n",
       "      <td>25263.973976</td>\n",
       "      <td>17060.787764</td>\n",
       "      <td>13213.996797</td>\n",
       "      <td>11256.708666</td>\n",
       "      <td>8382.628500</td>\n",
       "      <td>...</td>\n",
       "      <td>2633.942956</td>\n",
       "      <td>2094.975990</td>\n",
       "      <td>1351.569881</td>\n",
       "      <td>1207.727184</td>\n",
       "      <td>910.013504</td>\n",
       "      <td>707.182827</td>\n",
       "      <td>666.199804</td>\n",
       "      <td>622.541478</td>\n",
       "      <td>602.402843</td>\n",
       "      <td>264.707328</td>\n",
       "    </tr>\n",
       "    <tr>\n",
       "      <th>1</th>\n",
       "      <td>1a ii</td>\n",
       "      <td>P1</td>\n",
       "      <td>Bewohner/innen von Alters- und Pflegeheimen, A...</td>\n",
       "      <td>15610.0</td>\n",
       "      <td>0.00378167</td>\n",
       "      <td>2792.004487</td>\n",
       "      <td>1885.443519</td>\n",
       "      <td>1460.322053</td>\n",
       "      <td>1244.015733</td>\n",
       "      <td>926.391723</td>\n",
       "      <td>...</td>\n",
       "      <td>291.085660</td>\n",
       "      <td>231.522656</td>\n",
       "      <td>149.366413</td>\n",
       "      <td>133.469886</td>\n",
       "      <td>100.568572</td>\n",
       "      <td>78.153090</td>\n",
       "      <td>73.623922</td>\n",
       "      <td>68.799097</td>\n",
       "      <td>66.573511</td>\n",
       "      <td>29.253674</td>\n",
       "    </tr>\n",
       "    <tr>\n",
       "      <th>2</th>\n",
       "      <td>1b i</td>\n",
       "      <td>P1</td>\n",
       "      <td>Im eigenen Haushalt lebend, Alter ab 75 Jahre</td>\n",
       "      <td>633850.0</td>\n",
       "      <td>0.153556</td>\n",
       "      <td>113370.406406</td>\n",
       "      <td>76559.152736</td>\n",
       "      <td>59296.933593</td>\n",
       "      <td>50513.733011</td>\n",
       "      <td>37616.489026</td>\n",
       "      <td>...</td>\n",
       "      <td>11819.644196</td>\n",
       "      <td>9401.065706</td>\n",
       "      <td>6065.080136</td>\n",
       "      <td>5419.595579</td>\n",
       "      <td>4083.625202</td>\n",
       "      <td>3173.436001</td>\n",
       "      <td>2989.527405</td>\n",
       "      <td>2793.613562</td>\n",
       "      <td>2703.242777</td>\n",
       "      <td>1187.856565</td>\n",
       "    </tr>\n",
       "    <tr>\n",
       "      <th>3</th>\n",
       "      <td>1b ii</td>\n",
       "      <td>P1</td>\n",
       "      <td>Im eigenen Haushalt lebend, Alter 65-74 Jahre</td>\n",
       "      <td>815100.0</td>\n",
       "      <td>0.197465</td>\n",
       "      <td>145788.780092</td>\n",
       "      <td>98451.314026</td>\n",
       "      <td>76252.947183</td>\n",
       "      <td>64958.182185</td>\n",
       "      <td>48372.959225</td>\n",
       "      <td>...</td>\n",
       "      <td>15199.482503</td>\n",
       "      <td>12089.309232</td>\n",
       "      <td>7799.395471</td>\n",
       "      <td>6969.334001</td>\n",
       "      <td>5251.341646</td>\n",
       "      <td>4080.882992</td>\n",
       "      <td>3844.385561</td>\n",
       "      <td>3592.449971</td>\n",
       "      <td>3476.237577</td>\n",
       "      <td>1527.525260</td>\n",
       "    </tr>\n",
       "    <tr>\n",
       "      <th>4</th>\n",
       "      <td>1c</td>\n",
       "      <td>P1</td>\n",
       "      <td>Personen bis 65 Jahre mit Vorerkrankungen</td>\n",
       "      <td>621600.0</td>\n",
       "      <td>0.150588</td>\n",
       "      <td>111179.371494</td>\n",
       "      <td>75079.544594</td>\n",
       "      <td>58150.940950</td>\n",
       "      <td>49537.487481</td>\n",
       "      <td>36889.500005</td>\n",
       "      <td>...</td>\n",
       "      <td>11591.213745</td>\n",
       "      <td>9219.377523</td>\n",
       "      <td>5947.864341</td>\n",
       "      <td>5314.854637</td>\n",
       "      <td>4004.703677</td>\n",
       "      <td>3112.105101</td>\n",
       "      <td>2931.750785</td>\n",
       "      <td>2739.623239</td>\n",
       "      <td>2650.998991</td>\n",
       "      <td>1164.899647</td>\n",
       "    </tr>\n",
       "  </tbody>\n",
       "</table>\n",
       "<p>5 rows × 31 columns</p>\n",
       "</div>"
      ],
      "text/plain": [
       "  Zielgruppe Priorität                                       Beschreibung  \\\n",
       "0       1a i        P1  Bewohner/innen von Alters- und Pflegeheimen, A...   \n",
       "1      1a ii        P1  Bewohner/innen von Alters- und Pflegeheimen, A...   \n",
       "2       1b i        P1      Im eigenen Haushalt lebend, Alter ab 75 Jahre   \n",
       "3      1b ii        P1      Im eigenen Haushalt lebend, Alter 65-74 Jahre   \n",
       "4         1c        P1          Personen bis 65 Jahre mit Vorerkrankungen   \n",
       "\n",
       "   Grösse der Zielgruppe schweizweit laut BAG-Schätzung Anteil an Summe P1-P4  \\\n",
       "0                                           141250.0                0.0342191   \n",
       "1                                            15610.0               0.00378167   \n",
       "2                                           633850.0                 0.153556   \n",
       "3                                           815100.0                 0.197465   \n",
       "4                                           621600.0                 0.150588   \n",
       "\n",
       "          Zürich          Bern         Waadt        Aargau    St. Gallen  ...  \\\n",
       "0   25263.973976  17060.787764  13213.996797  11256.708666   8382.628500  ...   \n",
       "1    2792.004487   1885.443519   1460.322053   1244.015733    926.391723  ...   \n",
       "2  113370.406406  76559.152736  59296.933593  50513.733011  37616.489026  ...   \n",
       "3  145788.780092  98451.314026  76252.947183  64958.182185  48372.959225  ...   \n",
       "4  111179.371494  75079.544594  58150.940950  49537.487481  36889.500005  ...   \n",
       "\n",
       "         Schwyz           Zug  Schaffhausen         Jura  Appenzell A. Rh.  \\\n",
       "0   2633.942956   2094.975990   1351.569881  1207.727184        910.013504   \n",
       "1    291.085660    231.522656    149.366413   133.469886        100.568572   \n",
       "2  11819.644196   9401.065706   6065.080136  5419.595579       4083.625202   \n",
       "3  15199.482503  12089.309232   7799.395471  6969.334001       5251.341646   \n",
       "4  11591.213745   9219.377523   5947.864341  5314.854637       4004.703677   \n",
       "\n",
       "     Nidwalden       Glarus     Obwalden          Uri  Appenzell I. Rh.  \n",
       "0   707.182827   666.199804   622.541478   602.402843        264.707328  \n",
       "1    78.153090    73.623922    68.799097    66.573511         29.253674  \n",
       "2  3173.436001  2989.527405  2793.613562  2703.242777       1187.856565  \n",
       "3  4080.882992  3844.385561  3592.449971  3476.237577       1527.525260  \n",
       "4  3112.105101  2931.750785  2739.623239  2650.998991       1164.899647  \n",
       "\n",
       "[5 rows x 31 columns]"
      ]
     },
     "execution_count": 4,
     "metadata": {},
     "output_type": "execute_result"
    }
   ],
   "source": [
    "## Data Import\n",
    "impf = pd.read_excel(\"impfkategorien.xlsx\", skiprows=2)\n",
    "impf.head()"
   ]
  },
  {
   "cell_type": "code",
   "execution_count": 10,
   "metadata": {},
   "outputs": [],
   "source": [
    "def set_sizes(fig_size:Tuple[int,int]=(9, 6), font_size:int=10):\n",
    "    plt.rcParams[\"figure.figsize\"] = fig_size\n",
    "    plt.rcParams[\"font.size\"] = font_size\n",
    "    plt.rcParams[\"xtick.labelsize\"] = font_size\n",
    "    plt.rcParams[\"ytick.labelsize\"] = font_size\n",
    "    plt.rcParams[\"axes.labelsize\"] = font_size\n",
    "    plt.rcParams[\"axes.titlesize\"] = font_size\n",
    "    plt.rcParams[\"legend.fontsize\"] = font_size"
   ]
  },
  {
   "cell_type": "code",
   "execution_count": 5,
   "metadata": {},
   "outputs": [],
   "source": [
    "impf_ = impf.groupby(\"Priorität\").sum()\n",
    "impf_plt = pd.DataFrame(impf_[\"Grösse der Zielgruppe schweizweit laut BAG-Schätzung\"]).transpose()\n",
    "impf_plt[\"AnzahlImpfungen\"] = 0"
   ]
  },
  {
   "cell_type": "code",
   "execution_count": 6,
   "metadata": {},
   "outputs": [
    {
     "data": {
      "text/html": [
       "<div>\n",
       "<style scoped>\n",
       "    .dataframe tbody tr th:only-of-type {\n",
       "        vertical-align: middle;\n",
       "    }\n",
       "\n",
       "    .dataframe tbody tr th {\n",
       "        vertical-align: top;\n",
       "    }\n",
       "\n",
       "    .dataframe thead th {\n",
       "        text-align: right;\n",
       "    }\n",
       "</style>\n",
       "<table border=\"1\" class=\"dataframe\">\n",
       "  <thead>\n",
       "    <tr style=\"text-align: right;\">\n",
       "      <th>Priorität</th>\n",
       "      <th>P1</th>\n",
       "      <th>P2</th>\n",
       "      <th>P3</th>\n",
       "      <th>P4</th>\n",
       "      <th>Sonstige</th>\n",
       "      <th>AnzahlImpfungen</th>\n",
       "    </tr>\n",
       "  </thead>\n",
       "  <tbody>\n",
       "    <tr>\n",
       "      <th>Grösse der Zielgruppe schweizweit laut BAG-Schätzung</th>\n",
       "      <td>2353410.0</td>\n",
       "      <td>431200.0</td>\n",
       "      <td>1243200.0</td>\n",
       "      <td>100000.0</td>\n",
       "      <td>3100449.0</td>\n",
       "      <td>0</td>\n",
       "    </tr>\n",
       "  </tbody>\n",
       "</table>\n",
       "</div>"
      ],
      "text/plain": [
       "Priorität                                                  P1        P2  \\\n",
       "Grösse der Zielgruppe schweizweit laut BAG-Schä...  2353410.0  431200.0   \n",
       "\n",
       "Priorität                                                  P3        P4  \\\n",
       "Grösse der Zielgruppe schweizweit laut BAG-Schä...  1243200.0  100000.0   \n",
       "\n",
       "Priorität                                            Sonstige  AnzahlImpfungen  \n",
       "Grösse der Zielgruppe schweizweit laut BAG-Schä...  3100449.0                0  "
      ]
     },
     "execution_count": 6,
     "metadata": {},
     "output_type": "execute_result"
    }
   ],
   "source": [
    "impf_plt\n"
   ]
  },
  {
   "cell_type": "code",
   "execution_count": 7,
   "metadata": {},
   "outputs": [],
   "source": [
    "impf_plt = pd.DataFrame(np.array([[0,0,0,0,0,1000000]]), columns=['P1', 'P2', 'P3', 'P4', 'Sonstige', 'AnzahlImpfungen']).append(impf_plt, ignore_index=True)\n",
    "impf_plt = impf_plt.rename(index={0: \"Anzahl Impfungen\",1: \"Anzahl Personen\"})"
   ]
  },
  {
   "cell_type": "code",
   "execution_count": 8,
   "metadata": {},
   "outputs": [
    {
     "data": {
      "text/html": [
       "<div>\n",
       "<style scoped>\n",
       "    .dataframe tbody tr th:only-of-type {\n",
       "        vertical-align: middle;\n",
       "    }\n",
       "\n",
       "    .dataframe tbody tr th {\n",
       "        vertical-align: top;\n",
       "    }\n",
       "\n",
       "    .dataframe thead th {\n",
       "        text-align: right;\n",
       "    }\n",
       "</style>\n",
       "<table border=\"1\" class=\"dataframe\">\n",
       "  <thead>\n",
       "    <tr style=\"text-align: right;\">\n",
       "      <th>Priorität</th>\n",
       "      <th>P1</th>\n",
       "      <th>P2</th>\n",
       "      <th>P3</th>\n",
       "      <th>P4</th>\n",
       "      <th>Sonstige</th>\n",
       "      <th>AnzahlImpfungen</th>\n",
       "    </tr>\n",
       "  </thead>\n",
       "  <tbody>\n",
       "    <tr>\n",
       "      <th>Anzahl Impfungen</th>\n",
       "      <td>0.0</td>\n",
       "      <td>0.0</td>\n",
       "      <td>0.0</td>\n",
       "      <td>0.0</td>\n",
       "      <td>0.0</td>\n",
       "      <td>1000000</td>\n",
       "    </tr>\n",
       "    <tr>\n",
       "      <th>Anzahl Personen</th>\n",
       "      <td>2353410.0</td>\n",
       "      <td>431200.0</td>\n",
       "      <td>1243200.0</td>\n",
       "      <td>100000.0</td>\n",
       "      <td>3100449.0</td>\n",
       "      <td>0</td>\n",
       "    </tr>\n",
       "  </tbody>\n",
       "</table>\n",
       "</div>"
      ],
      "text/plain": [
       "Priorität                P1        P2         P3        P4   Sonstige  \\\n",
       "Anzahl Impfungen        0.0       0.0        0.0       0.0        0.0   \n",
       "Anzahl Personen   2353410.0  431200.0  1243200.0  100000.0  3100449.0   \n",
       "\n",
       "Priorität         AnzahlImpfungen  \n",
       "Anzahl Impfungen          1000000  \n",
       "Anzahl Personen                 0  "
      ]
     },
     "execution_count": 8,
     "metadata": {},
     "output_type": "execute_result"
    }
   ],
   "source": [
    "impf_plt"
   ]
  },
  {
   "cell_type": "code",
   "execution_count": 11,
   "metadata": {},
   "outputs": [
    {
     "data": {
      "image/png": "[encoded data removed]",
      "text/plain": [
       "<Figure size 864x576 with 1 Axes>"
      ]
     },
     "metadata": {
      "needs_background": "light"
     },
     "output_type": "display_data"
    }
   ],
   "source": [
    "set_sizes((12,8), 15)\n",
    "impf_plt.plot.barh(stacked=True)\n",
    "\n",
    "plt.show()"
   ]
  },
  {
   "cell_type": "code",
   "execution_count": 12,
   "metadata": {},
   "outputs": [
    {
     "data": {
      "image/png": "[encoded data removed]",
      "text/plain": [
       "<Figure size 864x576 with 1 Axes>"
      ]
     },
     "metadata": {},
     "output_type": "display_data"
    }
   ],
   "source": [
    "plt.style.use('ggplot')\n",
    "\n",
    "ax = impf_plt.plot(stacked=True, kind='barh', figsize=(12, 8), rot='horizontal')\n",
    "\n",
    "for rect in ax.patches:\n",
    "\n",
    "    height = rect.get_height()\n",
    "    width = rect.get_width()\n",
    "    x = rect.get_x()\n",
    "    y = rect.get_y()\n",
    "    \n",
    "    label_text = f'{width}'  \n",
    "    \n",
    "    # ax.text(x, y, text)\n",
    "    label_x = x + width /2\n",
    "    label_y = y + height / 2\n",
    "\n",
    "    # plot only when height is greater than specified value\n",
    "    if height > 0.4:\n",
    "        ax.text(label_x, label_y, label_text, ha='center', va='center', fontsize=11)\n",
    "    \n",
    "ax.legend(bbox_to_anchor=(1.05, 1), loc='upper left', borderaxespad=0.)    \n",
    "\n",
    "plt.show()"
   ]
  },
  {
   "cell_type": "code",
   "execution_count": 13,
   "metadata": {},
   "outputs": [
    {
     "name": "stderr",
     "output_type": "stream",
     "text": [
      "<ipython-input-13-9beb1e3ea652>:5: UserWarning: FixedFormatter should only be used together with FixedLocator\n",
      "  ax.set_xticklabels(mio)\n"
     ]
    },
    {
     "data": {
      "image/png": "[encoded data removed]",
      "text/plain": [
       "<Figure size 864x576 with 1 Axes>"
      ]
     },
     "metadata": {},
     "output_type": "display_data"
    }
   ],
   "source": [
    "pal = sns.color_palette(\"BuGn\")\n",
    "ax = impf_plt.plot(kind='barh', stacked=True, color= pal)\n",
    "plt.title(\"Anzahl Impfungen im Vergleich zu Anzahl Personen\", fontsize=20)\n",
    "mio = [\"0 Mio.\", \"1 Mio.\", \"2 Mio.\", \"3 Mio.\", \"4 Mio.\", \"5 Mio.\", \"6 Mio.\", \"7 Mio.\"]\n",
    "ax.set_xticklabels(mio)\n",
    "plt.show()"
   ]
  },
  {
   "cell_type": "code",
   "execution_count": null,
   "metadata": {},
   "outputs": [],
   "source": []
  }
 ],
 "metadata": {
  "kernelspec": {
   "display_name": "Python 3",
   "language": "python",
   "name": "python3"
  },
  "language_info": {
   "codemirror_mode": {
    "name": "ipython",
    "version": 3
   },
   "file_extension": ".py",
   "mimetype": "text/x-python",
   "name": "python",
   "nbconvert_exporter": "python",
   "pygments_lexer": "ipython3",
   "version": "3.8.5"
  },
  "toc": {
   "base_numbering": 1,
   "nav_menu": {},
   "number_sections": true,
   "sideBar": true,
   "skip_h1_title": false,
   "title_cell": "Table of Contents",
   "title_sidebar": "Contents",
   "toc_cell": false,
   "toc_position": {},
   "toc_section_display": true,
   "toc_window_display": false
  },
  "varInspector": {
   "cols": {
    "lenName": 16,
    "lenType": 16,
    "lenVar": 40
   },
   "kernels_config": {
    "python": {
     "delete_cmd_postfix": "",
     "delete_cmd_prefix": "del ",
     "library": "var_list.py",
     "varRefreshCmd": "print(var_dic_list())"
    },
    "r": {
     "delete_cmd_postfix": ") ",
     "delete_cmd_prefix": "rm(",
     "library": "var_list.r",
     "varRefreshCmd": "cat(var_dic_list()) "
    }
   },
   "types_to_exclude": [
    "module",
    "function",
    "builtin_function_or_method",
    "instance",
    "_Feature"
   ],
   "window_display": false
  }
 },
 "nbformat": 4,
 "nbformat_minor": 4
}
